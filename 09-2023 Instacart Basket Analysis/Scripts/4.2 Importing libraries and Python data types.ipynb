{
 "cells": [
  {
   "cell_type": "markdown",
   "id": "0436185e",
   "metadata": {},
   "source": [
    "1) Import Libraries\n",
    "2) Python Data types\n",
    "    - Code 3 different ways of reaching a result of 100 by adding or subtracting numeric variables.\n",
    "    - Code 2 floating-point variables and divide them by each other.\n",
    "    - Construct a short word made of separate strings\n",
    "    - Construct 2 short sentences made of separate strings.\n",
    "    - Bonus: a command that makes a string appear 100 times."
   ]
  },
  {
   "cell_type": "markdown",
   "id": "54d093b4",
   "metadata": {},
   "source": [
    "# 01. Importing Libraries"
   ]
  },
  {
   "cell_type": "code",
   "execution_count": 9,
   "id": "700dcd4d",
   "metadata": {},
   "outputs": [],
   "source": [
    "# Import libraries\n",
    "import pandas as pd\n",
    "import numpy as np\n",
    "import os"
   ]
  },
  {
   "cell_type": "markdown",
   "id": "2107d239",
   "metadata": {},
   "source": [
    "# 02. Python Data Types"
   ]
  },
  {
   "cell_type": "code",
   "execution_count": 32,
   "id": "b64bc0e7",
   "metadata": {},
   "outputs": [],
   "source": [
    "#7. Code 3 different ways of reaching a result of 100 by adding or subtracting numeric variables.\n",
    "x = 10\n",
    "y = 90\n",
    "z = 110"
   ]
  },
  {
   "cell_type": "code",
   "execution_count": 33,
   "id": "2086d5a3",
   "metadata": {},
   "outputs": [
    {
     "name": "stdout",
     "output_type": "stream",
     "text": [
      "100\n"
     ]
    }
   ],
   "source": [
    "print(x + y)"
   ]
  },
  {
   "cell_type": "code",
   "execution_count": 7,
   "id": "e988a966",
   "metadata": {},
   "outputs": [
    {
     "name": "stdout",
     "output_type": "stream",
     "text": [
      "100\n"
     ]
    }
   ],
   "source": [
    "print(z - x)"
   ]
  },
  {
   "cell_type": "code",
   "execution_count": 8,
   "id": "4d8cf735",
   "metadata": {},
   "outputs": [
    {
     "name": "stdout",
     "output_type": "stream",
     "text": [
      "100\n"
     ]
    }
   ],
   "source": [
    "print(z + y - x - y)"
   ]
  },
  {
   "cell_type": "code",
   "execution_count": 34,
   "id": "2289f00a",
   "metadata": {},
   "outputs": [],
   "source": [
    "#8. Code 2 floating-point variables and divide them by each other.\n",
    "a = 10.5\n",
    "b = 105"
   ]
  },
  {
   "cell_type": "code",
   "execution_count": 35,
   "id": "ff5c9fe4",
   "metadata": {},
   "outputs": [
    {
     "name": "stdout",
     "output_type": "stream",
     "text": [
      "10.0\n"
     ]
    }
   ],
   "source": [
    "print(b / a)"
   ]
  },
  {
   "cell_type": "code",
   "execution_count": 14,
   "id": "173150d0",
   "metadata": {},
   "outputs": [],
   "source": [
    "#9. Construct a short word made of separate strings\n",
    "str1 = 'str'\n",
    "str2 = 'ong'"
   ]
  },
  {
   "cell_type": "code",
   "execution_count": 16,
   "id": "a6e8436f",
   "metadata": {},
   "outputs": [
    {
     "name": "stdout",
     "output_type": "stream",
     "text": [
      "strong\n"
     ]
    }
   ],
   "source": [
    "print(str1 + str2)"
   ]
  },
  {
   "cell_type": "code",
   "execution_count": 36,
   "id": "858273b2",
   "metadata": {},
   "outputs": [],
   "source": [
    "#10. Construct 2 short sentences made of separate strings.\n",
    "str3 = 'For the brave and the '"
   ]
  },
  {
   "cell_type": "code",
   "execution_count": 18,
   "id": "0eaae637",
   "metadata": {},
   "outputs": [
    {
     "name": "stdout",
     "output_type": "stream",
     "text": [
      "For the brave and the strong\n"
     ]
    }
   ],
   "source": [
    "#first sentence\n",
    "print(str3 + str1 + str2)"
   ]
  },
  {
   "cell_type": "code",
   "execution_count": 19,
   "id": "db0b8a12",
   "metadata": {},
   "outputs": [],
   "source": [
    "str4 = 'Hello'\n",
    "str5 = 'World'"
   ]
  },
  {
   "cell_type": "code",
   "execution_count": 20,
   "id": "e92b4398",
   "metadata": {},
   "outputs": [
    {
     "name": "stdout",
     "output_type": "stream",
     "text": [
      "Hello World\n"
     ]
    }
   ],
   "source": [
    "#second sentence\n",
    "print(str4 + ' ' + str5)"
   ]
  },
  {
   "cell_type": "code",
   "execution_count": 31,
   "id": "bd46fcb5",
   "metadata": {},
   "outputs": [
    {
     "data": {
      "text/plain": [
       "'Hello World. Hello World. Hello World. Hello World. Hello World. Hello World. Hello World. Hello World. Hello World. Hello World. Hello World. Hello World. Hello World. Hello World. Hello World. Hello World. Hello World. Hello World. Hello World. Hello World. Hello World. Hello World. Hello World. Hello World. Hello World. Hello World. Hello World. Hello World. Hello World. Hello World. Hello World. Hello World. Hello World. Hello World. Hello World. Hello World. Hello World. Hello World. Hello World. Hello World. Hello World. Hello World. Hello World. Hello World. Hello World. Hello World. Hello World. Hello World. Hello World. Hello World. Hello World. Hello World. Hello World. Hello World. Hello World. Hello World. Hello World. Hello World. Hello World. Hello World. Hello World. Hello World. Hello World. Hello World. Hello World. Hello World. Hello World. Hello World. Hello World. Hello World. Hello World. Hello World. Hello World. Hello World. Hello World. Hello World. Hello World. Hello World. Hello World. Hello World. Hello World. Hello World. Hello World. Hello World. Hello World. Hello World. Hello World. Hello World. Hello World. Hello World. Hello World. Hello World. Hello World. Hello World. Hello World. Hello World. Hello World. Hello World. Hello World. Hello World. '"
      ]
     },
     "execution_count": 31,
     "metadata": {},
     "output_type": "execute_result"
    }
   ],
   "source": [
    "#Bonus: a command that makes a string appear 100 times.\n",
    "(str4 + ' ' + str5 + '. ')*100"
   ]
  }
 ],
 "metadata": {
  "kernelspec": {
   "display_name": "Python 3 (ipykernel)",
   "language": "python",
   "name": "python3"
  },
  "language_info": {
   "codemirror_mode": {
    "name": "ipython",
    "version": 3
   },
   "file_extension": ".py",
   "mimetype": "text/x-python",
   "name": "python",
   "nbconvert_exporter": "python",
   "pygments_lexer": "ipython3",
   "version": "3.11.4"
  }
 },
 "nbformat": 4,
 "nbformat_minor": 5
}
