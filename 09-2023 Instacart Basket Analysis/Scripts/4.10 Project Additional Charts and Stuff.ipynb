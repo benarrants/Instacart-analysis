{
 "cells": [
  {
   "cell_type": "markdown",
   "id": "11c66372",
   "metadata": {},
   "source": [
    "WARNING: Run cell by cell, not all at once. Very taxing notebook.\n",
    "1) Import Libraries\n",
    "2) Import Data\n",
    "3) Charts and Stuff\n",
    "    - Charts on Prices ranges\n",
    "    - Charts on Product types i.e. departments\n",
    "    - Charts on loyalty\n",
    "    - Charts on region\n",
    "    - Charts on Customer profile\n",
    "    - Sampling\n",
    "    - More charts (line, scatter, pie) on subjects above"
   ]
  },
  {
   "cell_type": "markdown",
   "id": "a2b7dc52",
   "metadata": {},
   "source": [
    "# 01 Import Libraries"
   ]
  },
  {
   "cell_type": "code",
   "execution_count": 1,
   "id": "48c3290b",
   "metadata": {},
   "outputs": [],
   "source": [
    "#Import libraries\n",
    "import pandas as pd\n",
    "import numpy as np\n",
    "import os\n",
    "import matplotlib.pyplot as plt\n",
    "import seaborn as sns\n",
    "import scipy"
   ]
  },
  {
   "cell_type": "markdown",
   "id": "4cf9fdfb",
   "metadata": {},
   "source": [
    "# 02 Import Data"
   ]
  },
  {
   "cell_type": "code",
   "execution_count": 2,
   "id": "4ef5bd41",
   "metadata": {},
   "outputs": [],
   "source": [
    "path = r'C:\\Users\\benar\\CareerFoundry\\09-2023 Instacart Basket Analysis'"
   ]
  },
  {
   "cell_type": "code",
   "execution_count": 3,
   "id": "27dd69cc",
   "metadata": {},
   "outputs": [],
   "source": [
    "ords_prods_all = pd.read_pickle(os.path.join(path, 'Data', 'Prepared Data', 'orders_products_all_project.pkl'))"
   ]
  },
  {
   "cell_type": "code",
   "execution_count": 5,
   "id": "ef657fea",
   "metadata": {},
   "outputs": [
    {
     "data": {
      "text/html": [
       "<div>\n",
       "<style scoped>\n",
       "    .dataframe tbody tr th:only-of-type {\n",
       "        vertical-align: middle;\n",
       "    }\n",
       "\n",
       "    .dataframe tbody tr th {\n",
       "        vertical-align: top;\n",
       "    }\n",
       "\n",
       "    .dataframe thead th {\n",
       "        text-align: right;\n",
       "    }\n",
       "</style>\n",
       "<table border=\"1\" class=\"dataframe\">\n",
       "  <thead>\n",
       "    <tr style=\"text-align: right;\">\n",
       "      <th></th>\n",
       "      <th>user_id</th>\n",
       "      <th>gender</th>\n",
       "      <th>state</th>\n",
       "      <th>age</th>\n",
       "      <th>n_dependants</th>\n",
       "      <th>fam_status</th>\n",
       "      <th>income</th>\n",
       "      <th>product_id</th>\n",
       "      <th>product_name</th>\n",
       "      <th>aisle_id</th>\n",
       "      <th>...</th>\n",
       "      <th>busiest_period_of_day</th>\n",
       "      <th>max_order</th>\n",
       "      <th>loyalty_flag</th>\n",
       "      <th>mean_spend</th>\n",
       "      <th>spender_flag</th>\n",
       "      <th>median_order_frequency</th>\n",
       "      <th>order_frequency_flag</th>\n",
       "      <th>region</th>\n",
       "      <th>exclusion_flag</th>\n",
       "      <th>customer_profile_flag</th>\n",
       "    </tr>\n",
       "  </thead>\n",
       "  <tbody>\n",
       "    <tr>\n",
       "      <th>0</th>\n",
       "      <td>26711</td>\n",
       "      <td>Female</td>\n",
       "      <td>Missouri</td>\n",
       "      <td>48</td>\n",
       "      <td>3</td>\n",
       "      <td>married</td>\n",
       "      <td>165665</td>\n",
       "      <td>196</td>\n",
       "      <td>Soda</td>\n",
       "      <td>77</td>\n",
       "      <td>...</td>\n",
       "      <td>Most orders</td>\n",
       "      <td>8</td>\n",
       "      <td>New customer</td>\n",
       "      <td>7.988889</td>\n",
       "      <td>Low spender</td>\n",
       "      <td>19.0</td>\n",
       "      <td>Regular customer</td>\n",
       "      <td>Midwest</td>\n",
       "      <td>Include</td>\n",
       "      <td>Mature family</td>\n",
       "    </tr>\n",
       "    <tr>\n",
       "      <th>1</th>\n",
       "      <td>26711</td>\n",
       "      <td>Female</td>\n",
       "      <td>Missouri</td>\n",
       "      <td>48</td>\n",
       "      <td>3</td>\n",
       "      <td>married</td>\n",
       "      <td>165665</td>\n",
       "      <td>196</td>\n",
       "      <td>Soda</td>\n",
       "      <td>77</td>\n",
       "      <td>...</td>\n",
       "      <td>Most orders</td>\n",
       "      <td>8</td>\n",
       "      <td>New customer</td>\n",
       "      <td>7.988889</td>\n",
       "      <td>Low spender</td>\n",
       "      <td>19.0</td>\n",
       "      <td>Regular customer</td>\n",
       "      <td>Midwest</td>\n",
       "      <td>Include</td>\n",
       "      <td>Mature family</td>\n",
       "    </tr>\n",
       "    <tr>\n",
       "      <th>2</th>\n",
       "      <td>26711</td>\n",
       "      <td>Female</td>\n",
       "      <td>Missouri</td>\n",
       "      <td>48</td>\n",
       "      <td>3</td>\n",
       "      <td>married</td>\n",
       "      <td>165665</td>\n",
       "      <td>196</td>\n",
       "      <td>Soda</td>\n",
       "      <td>77</td>\n",
       "      <td>...</td>\n",
       "      <td>Most orders</td>\n",
       "      <td>8</td>\n",
       "      <td>New customer</td>\n",
       "      <td>7.988889</td>\n",
       "      <td>Low spender</td>\n",
       "      <td>19.0</td>\n",
       "      <td>Regular customer</td>\n",
       "      <td>Midwest</td>\n",
       "      <td>Include</td>\n",
       "      <td>Mature family</td>\n",
       "    </tr>\n",
       "    <tr>\n",
       "      <th>3</th>\n",
       "      <td>26711</td>\n",
       "      <td>Female</td>\n",
       "      <td>Missouri</td>\n",
       "      <td>48</td>\n",
       "      <td>3</td>\n",
       "      <td>married</td>\n",
       "      <td>165665</td>\n",
       "      <td>6184</td>\n",
       "      <td>Clementines</td>\n",
       "      <td>32</td>\n",
       "      <td>...</td>\n",
       "      <td>Most orders</td>\n",
       "      <td>8</td>\n",
       "      <td>New customer</td>\n",
       "      <td>7.988889</td>\n",
       "      <td>Low spender</td>\n",
       "      <td>19.0</td>\n",
       "      <td>Regular customer</td>\n",
       "      <td>Midwest</td>\n",
       "      <td>Include</td>\n",
       "      <td>Mature family</td>\n",
       "    </tr>\n",
       "    <tr>\n",
       "      <th>4</th>\n",
       "      <td>26711</td>\n",
       "      <td>Female</td>\n",
       "      <td>Missouri</td>\n",
       "      <td>48</td>\n",
       "      <td>3</td>\n",
       "      <td>married</td>\n",
       "      <td>165665</td>\n",
       "      <td>6184</td>\n",
       "      <td>Clementines</td>\n",
       "      <td>32</td>\n",
       "      <td>...</td>\n",
       "      <td>Most orders</td>\n",
       "      <td>8</td>\n",
       "      <td>New customer</td>\n",
       "      <td>7.988889</td>\n",
       "      <td>Low spender</td>\n",
       "      <td>19.0</td>\n",
       "      <td>Regular customer</td>\n",
       "      <td>Midwest</td>\n",
       "      <td>Include</td>\n",
       "      <td>Mature family</td>\n",
       "    </tr>\n",
       "  </tbody>\n",
       "</table>\n",
       "<p>5 rows × 32 columns</p>\n",
       "</div>"
      ],
      "text/plain": [
       "   user_id  gender     state  age  n_dependants fam_status  income  \\\n",
       "0    26711  Female  Missouri   48             3    married  165665   \n",
       "1    26711  Female  Missouri   48             3    married  165665   \n",
       "2    26711  Female  Missouri   48             3    married  165665   \n",
       "3    26711  Female  Missouri   48             3    married  165665   \n",
       "4    26711  Female  Missouri   48             3    married  165665   \n",
       "\n",
       "   product_id product_name  aisle_id  ...  busiest_period_of_day  max_order  \\\n",
       "0         196         Soda        77  ...            Most orders          8   \n",
       "1         196         Soda        77  ...            Most orders          8   \n",
       "2         196         Soda        77  ...            Most orders          8   \n",
       "3        6184  Clementines        32  ...            Most orders          8   \n",
       "4        6184  Clementines        32  ...            Most orders          8   \n",
       "\n",
       "   loyalty_flag  mean_spend  spender_flag  median_order_frequency  \\\n",
       "0  New customer    7.988889   Low spender                    19.0   \n",
       "1  New customer    7.988889   Low spender                    19.0   \n",
       "2  New customer    7.988889   Low spender                    19.0   \n",
       "3  New customer    7.988889   Low spender                    19.0   \n",
       "4  New customer    7.988889   Low spender                    19.0   \n",
       "\n",
       "   order_frequency_flag   region  exclusion_flag customer_profile_flag  \n",
       "0      Regular customer  Midwest         Include         Mature family  \n",
       "1      Regular customer  Midwest         Include         Mature family  \n",
       "2      Regular customer  Midwest         Include         Mature family  \n",
       "3      Regular customer  Midwest         Include         Mature family  \n",
       "4      Regular customer  Midwest         Include         Mature family  \n",
       "\n",
       "[5 rows x 32 columns]"
      ]
     },
     "execution_count": 5,
     "metadata": {},
     "output_type": "execute_result"
    }
   ],
   "source": [
    "ords_prods_all.head()"
   ]
  },
  {
   "cell_type": "code",
   "execution_count": 6,
   "id": "01115496",
   "metadata": {},
   "outputs": [
    {
     "data": {
      "text/plain": [
       "(30964564, 32)"
      ]
     },
     "execution_count": 6,
     "metadata": {},
     "output_type": "execute_result"
    }
   ],
   "source": [
    "ords_prods_all.shape"
   ]
  },
  {
   "cell_type": "code",
   "execution_count": 9,
   "id": "ff05d4a8",
   "metadata": {},
   "outputs": [
    {
     "data": {
      "text/plain": [
       "Index(['user_id', 'gender', 'state', 'age', 'n_dependants', 'fam_status',\n",
       "       'income', 'product_id', 'product_name', 'aisle_id', 'department_id',\n",
       "       'prices', 'order_id', 'order_number', 'orders_day_of_week',\n",
       "       'order_hour_of_day', 'days_since_prior_order', 'add_to_cart_order',\n",
       "       'reordered', 'price_range_loc', 'busiest_day', 'busiest_days',\n",
       "       'busiest_period_of_day', 'max_order', 'loyalty_flag', 'mean_spend',\n",
       "       'spender_flag', 'median_order_frequency', 'order_frequency_flag',\n",
       "       'region', 'exclusion_flag', 'customer_profile_flag'],\n",
       "      dtype='object')"
      ]
     },
     "execution_count": 9,
     "metadata": {},
     "output_type": "execute_result"
    }
   ],
   "source": [
    "ords_prods_all.columns"
   ]
  },
  {
   "cell_type": "markdown",
   "id": "33908ec9",
   "metadata": {},
   "source": [
    "# 03 Charts and Stuff for Project"
   ]
  },
  {
   "cell_type": "code",
   "execution_count": null,
   "id": "8f65b795",
   "metadata": {},
   "outputs": [],
   "source": [
    "# Checking distribution of price ranges in orders\n",
    "bar1 = ords_prods_all['price_range_loc'].value_counts().plot.bar()\n",
    "plt.ylabel('orders(in ten millions)')"
   ]
  },
  {
   "cell_type": "code",
   "execution_count": 16,
   "id": "aa10302b",
   "metadata": {},
   "outputs": [],
   "source": [
    "# Export chart\n",
    "bar1.figure.savefig(os.path.join(path, 'Analysis','Visualizations', 'bar_price_range_orders.png'), bbox_inches='tight')"
   ]
  },
  {
   "cell_type": "code",
   "execution_count": null,
   "id": "1bad6b69",
   "metadata": {},
   "outputs": [],
   "source": [
    "# Looking at distribution of price ranges between products.\n",
    "bar20 = ords_prods_all.groupby('price_range_loc')['product_name'].nunique().plot.bar()\n",
    "plt.ylabel('products')\n",
    "bar20.invert_xaxis()"
   ]
  },
  {
   "cell_type": "code",
   "execution_count": 18,
   "id": "6e3cab71",
   "metadata": {},
   "outputs": [],
   "source": [
    "# Export chart\n",
    "bar20.figure.savefig(os.path.join(path, 'Analysis','Visualizations', 'bar_price_range_unique.png'), bbox_inches='tight')"
   ]
  },
  {
   "cell_type": "code",
   "execution_count": 8,
   "id": "3ee885b2",
   "metadata": {},
   "outputs": [
    {
     "data": {
      "text/plain": [
       "price_range_loc\n",
       "Mid-range product     20891771\n",
       "Low-range product      9674840\n",
       "High-range product      397953\n",
       "Name: count, dtype: int64"
      ]
     },
     "execution_count": 8,
     "metadata": {},
     "output_type": "execute_result"
    }
   ],
   "source": [
    "ords_prods_all['price_range_loc'].value_counts(dropna = False)"
   ]
  },
  {
   "cell_type": "code",
   "execution_count": null,
   "id": "d389c7d7",
   "metadata": {},
   "outputs": [],
   "source": [
    "# Creating bar chart to find product types with most orders.\n",
    "bar2 = ords_prods_all['department_id'].value_counts().plot.bar()\n",
    "plt.ylabel('orders(in millions)')"
   ]
  },
  {
   "cell_type": "code",
   "execution_count": null,
   "id": "d8bbe1f1",
   "metadata": {},
   "outputs": [],
   "source": [
    "# Export chart\n",
    "bar2.figure.savefig(os.path.join(path, 'Analysis','Visualizations', 'bar_department_id.png'), bbox_inches='tight')"
   ]
  },
  {
   "cell_type": "code",
   "execution_count": 4,
   "id": "29cfae02",
   "metadata": {},
   "outputs": [
    {
     "data": {
      "text/plain": [
       "department_id\n",
       "4     9079273\n",
       "16    5177182\n",
       "19    2766406\n",
       "7     2571901\n",
       "1     2121731\n",
       "13    1782705\n",
       "3     1120828\n",
       "15    1012074\n",
       "20    1003834\n",
       "9      822136\n",
       "17     699857\n",
       "12     674781\n",
       "14     670850\n",
       "11     424306\n",
       "18     410392\n",
       "6      255991\n",
       "5      144627\n",
       "8       93060\n",
       "21      64768\n",
       "2       34411\n",
       "10      33451\n",
       "Name: count, dtype: int64"
      ]
     },
     "execution_count": 4,
     "metadata": {},
     "output_type": "execute_result"
    }
   ],
   "source": [
    "ords_prods_all['department_id'].value_counts(dropna = False)"
   ]
  },
  {
   "cell_type": "code",
   "execution_count": 7,
   "id": "e41fc648",
   "metadata": {},
   "outputs": [],
   "source": [
    "# Creating loop to make list with all department names that coorespond with the department_id\n",
    "result = []\n",
    "department_name = [\"frozen\", \"other\", \"bakery\", \"produce\", \"alcohol\", \"international\", \"beverages\", \"pets\", \"dry goods pasta\", \"bulk\", \"personal care\", \"meat seafood\", \"pantry\", \"breakfast\", \"canned goods\", \"dairy eggs\", \"household\", \"babies\", \"snacks\", \"deli\", \"missing\"]\n",
    "\n",
    "for value in ords_prods_all['department_id']:\n",
    "    result.append(department_name[value - 1])"
   ]
  },
  {
   "cell_type": "code",
   "execution_count": 8,
   "id": "9c1bcf82",
   "metadata": {},
   "outputs": [],
   "source": [
    "# Creating new department_name column using the result list\n",
    "ords_prods_all['department_name'] = result"
   ]
  },
  {
   "cell_type": "code",
   "execution_count": 9,
   "id": "cc43e663",
   "metadata": {},
   "outputs": [
    {
     "data": {
      "text/plain": [
       "department_name\n",
       "produce            9079273\n",
       "dairy eggs         5177182\n",
       "snacks             2766406\n",
       "beverages          2571901\n",
       "frozen             2121731\n",
       "pantry             1782705\n",
       "bakery             1120828\n",
       "canned goods       1012074\n",
       "deli               1003834\n",
       "dry goods pasta     822136\n",
       "household           699857\n",
       "meat seafood        674781\n",
       "breakfast           670850\n",
       "personal care       424306\n",
       "babies              410392\n",
       "international       255991\n",
       "alcohol             144627\n",
       "pets                 93060\n",
       "missing              64768\n",
       "other                34411\n",
       "bulk                 33451\n",
       "Name: count, dtype: int64"
      ]
     },
     "execution_count": 9,
     "metadata": {},
     "output_type": "execute_result"
    }
   ],
   "source": [
    "ords_prods_all['department_name'].value_counts(dropna = False)"
   ]
  },
  {
   "cell_type": "code",
   "execution_count": 24,
   "id": "a276003e",
   "metadata": {},
   "outputs": [
    {
     "data": {
      "image/png": "[encoded data removed]",
      "text/plain": [
       "<Figure size 640x480 with 1 Axes>"
      ]
     },
     "metadata": {},
     "output_type": "display_data"
    }
   ],
   "source": [
    "# Creating new graph that has better readability than the other one above.\n",
    "bar12 = ords_prods_all['department_name'].value_counts().plot.barh()\n",
    "plt.xlabel('orders(in millions)')\n",
    "bar12.invert_yaxis()"
   ]
  },
  {
   "cell_type": "code",
   "execution_count": 22,
   "id": "4498d4ad",
   "metadata": {},
   "outputs": [],
   "source": [
    "# Export chart\n",
    "bar12.figure.savefig(os.path.join(path, 'Analysis','Visualizations', 'bar_department_name.png'), bbox_inches='tight')"
   ]
  },
  {
   "cell_type": "code",
   "execution_count": 5,
   "id": "73c16b2a",
   "metadata": {},
   "outputs": [
    {
     "data": {
      "image/png": "[encoded data removed]",
      "text/plain": [
       "<Figure size 640x480 with 1 Axes>"
      ]
     },
     "metadata": {},
     "output_type": "display_data"
    }
   ],
   "source": [
    "# Distribution of loyalty flag in unique customers\n",
    "bar3 = ords_prods_all.groupby('loyalty_flag')['user_id'].nunique().plot.bar()\n",
    "plt.ylabel('customers')\n",
    "bar3.invert_xaxis()"
   ]
  },
  {
   "cell_type": "code",
   "execution_count": null,
   "id": "50be787b",
   "metadata": {},
   "outputs": [],
   "source": [
    "# Export chart\n",
    "bar3.figure.savefig(os.path.join(path, 'Analysis','Visualizations', 'bar_loyalty_flag_distribution.png'), bbox_inches='tight')"
   ]
  },
  {
   "cell_type": "code",
   "execution_count": 17,
   "id": "4ded33a2",
   "metadata": {},
   "outputs": [
    {
     "data": {
      "text/plain": [
       "loyalty_flag\n",
       "Loyal customer      17017\n",
       "New customer        68750\n",
       "Regular customer    76864\n",
       "Name: user_id, dtype: int64"
      ]
     },
     "execution_count": 17,
     "metadata": {},
     "output_type": "execute_result"
    }
   ],
   "source": [
    "ords_prods_all.groupby('loyalty_flag')['user_id'].nunique()"
   ]
  },
  {
   "cell_type": "code",
   "execution_count": 6,
   "id": "598ad90f",
   "metadata": {},
   "outputs": [
    {
     "data": {
      "text/plain": [
       "162631"
      ]
     },
     "execution_count": 6,
     "metadata": {},
     "output_type": "execute_result"
    }
   ],
   "source": [
    "ords_prods_all['user_id'].nunique()"
   ]
  },
  {
   "cell_type": "code",
   "execution_count": 7,
   "id": "77603c22",
   "metadata": {},
   "outputs": [
    {
     "data": {
      "text/plain": [
       "162631"
      ]
     },
     "execution_count": 7,
     "metadata": {},
     "output_type": "execute_result"
    }
   ],
   "source": [
    "# Checking the value counts make sense.\n",
    "76864 + 68750 + 17017"
   ]
  },
  {
   "cell_type": "code",
   "execution_count": null,
   "id": "f17dfa07",
   "metadata": {},
   "outputs": [],
   "source": [
    "pie4 = ords_prods_all.groupby('loyalty_flag')['user_id'].nunique().plot.pie(autopct = '%1.0f%%')\n",
    "plt.ylabel('')\n",
    "plt.xlabel('customers')"
   ]
  },
  {
   "cell_type": "code",
   "execution_count": 12,
   "id": "610ac6a2",
   "metadata": {},
   "outputs": [],
   "source": [
    "# Export chart\n",
    "pie4.figure.savefig(os.path.join(path, 'Analysis','Visualizations', 'pie_loyalty_flag_distribution.png'))"
   ]
  },
  {
   "cell_type": "code",
   "execution_count": null,
   "id": "7b9e1582",
   "metadata": {},
   "outputs": [],
   "source": [
    "pie5 = ords_prods_all['loyalty_flag'].value_counts().plot.pie(autopct = '%1.0f%%')\n",
    "plt.ylabel('')\n",
    "plt.xlabel('orders')"
   ]
  },
  {
   "cell_type": "code",
   "execution_count": 11,
   "id": "061bafb4",
   "metadata": {},
   "outputs": [],
   "source": [
    "# Export chart\n",
    "pie5.figure.savefig(os.path.join(path, 'Analysis','Visualizations', 'pie_loyalty_flag_orders.png'))"
   ]
  },
  {
   "cell_type": "code",
   "execution_count": null,
   "id": "747940a8",
   "metadata": {},
   "outputs": [],
   "source": [
    "# Charting orders by region\n",
    "bar4 = ords_prods_all['region'].value_counts().plot.bar()\n",
    "plt.ylabel('orders(in ten millions)')"
   ]
  },
  {
   "cell_type": "code",
   "execution_count": 31,
   "id": "7892f363",
   "metadata": {},
   "outputs": [],
   "source": [
    "# Exporting chart\n",
    "bar4.figure.savefig(os.path.join(path, 'Analysis','Visualizations', 'bar_region_orders.png'), bbox_inches='tight')"
   ]
  },
  {
   "cell_type": "code",
   "execution_count": null,
   "id": "d702c0a1",
   "metadata": {},
   "outputs": [],
   "source": [
    "# Charting distribution of region between unique customers.\n",
    "bar5 = ords_prods_all.groupby('region')['user_id'].nunique().plot.bar()\n",
    "plt.ylabel('customers')"
   ]
  },
  {
   "cell_type": "code",
   "execution_count": 33,
   "id": "e8efa5ec",
   "metadata": {},
   "outputs": [],
   "source": [
    "# Exporting chart\n",
    "bar5.figure.savefig(os.path.join(path, 'Analysis','Visualizations', 'bar_region_customers.png'), bbox_inches='tight')"
   ]
  },
  {
   "cell_type": "code",
   "execution_count": null,
   "id": "5de9d4c0",
   "metadata": {},
   "outputs": [],
   "source": [
    "# Creating chart of customer_profile_flag grouped by user_id, so this is every unique customer profile for every customer.\n",
    "bar6 = ords_prods_all.groupby('customer_profile_flag')['user_id'].nunique().plot.bar()\n",
    "plt.ylabel('customers')"
   ]
  },
  {
   "cell_type": "code",
   "execution_count": 6,
   "id": "b31625cc",
   "metadata": {},
   "outputs": [],
   "source": [
    "# Exporting chart\n",
    "bar6.figure.savefig(os.path.join(path, 'Analysis','Visualizations', 'bar_customer_flag_unique.png'), bbox_inches='tight')"
   ]
  },
  {
   "cell_type": "code",
   "execution_count": null,
   "id": "9c221a7d",
   "metadata": {},
   "outputs": [],
   "source": [
    "# Creating pie chart of above chart.\n",
    "pie6 = ords_prods_all.groupby('customer_profile_flag')['user_id'].nunique().plot.pie(autopct = '%1.0f%%')\n",
    "plt.ylabel('')\n",
    "plt.xlabel('customers')"
   ]
  },
  {
   "cell_type": "code",
   "execution_count": 11,
   "id": "50b7efba",
   "metadata": {},
   "outputs": [],
   "source": [
    "# Exporting chart\n",
    "pie6.figure.savefig(os.path.join(path, 'Analysis','Visualizations', 'pie_customer_flag_unique.png'))"
   ]
  },
  {
   "cell_type": "code",
   "execution_count": null,
   "id": "4ab8f856",
   "metadata": {},
   "outputs": [],
   "source": [
    "# Creating bar chart of customer_profile_flag\n",
    "bar7 = ords_prods_all['customer_profile_flag'].value_counts().plot.bar()\n",
    "plt.ylabel('orders(in ten millions)')"
   ]
  },
  {
   "cell_type": "code",
   "execution_count": 12,
   "id": "2eb4b318",
   "metadata": {},
   "outputs": [],
   "source": [
    "# Exporting chart\n",
    "bar7.figure.savefig(os.path.join(path, 'Analysis','Visualizations', 'bar_customer_flag_orders.png'), bbox_inches='tight')"
   ]
  },
  {
   "cell_type": "markdown",
   "id": "e35bfc96",
   "metadata": {},
   "source": [
    "#### Sampling"
   ]
  },
  {
   "cell_type": "code",
   "execution_count": 4,
   "id": "25c23137",
   "metadata": {},
   "outputs": [],
   "source": [
    "#Setting seed to 4 and creating list holding True/False values to np.random.rand() function <= 0.7\n",
    "np.random.seed(4)\n",
    "dev = np.random.rand(len(ords_prods_all)) <= 0.7"
   ]
  },
  {
   "cell_type": "code",
   "execution_count": 5,
   "id": "b08eed3c",
   "metadata": {},
   "outputs": [],
   "source": [
    "#Store 70% of the sample in \"big\" dataframe\n",
    "big = ords_prods_all[dev]"
   ]
  },
  {
   "cell_type": "code",
   "execution_count": 6,
   "id": "8508ebb3",
   "metadata": {},
   "outputs": [],
   "source": [
    "#Store 30% of the sample in \"small\" dataframe\n",
    "small = ords_prods_all[~dev]"
   ]
  },
  {
   "cell_type": "code",
   "execution_count": 7,
   "id": "6d40ea58",
   "metadata": {},
   "outputs": [
    {
     "data": {
      "text/plain": [
       "30964564"
      ]
     },
     "execution_count": 7,
     "metadata": {},
     "output_type": "execute_result"
    }
   ],
   "source": [
    "len(ords_prods_all)"
   ]
  },
  {
   "cell_type": "code",
   "execution_count": 8,
   "id": "8cb54a99",
   "metadata": {},
   "outputs": [
    {
     "data": {
      "text/plain": [
       "30964564"
      ]
     },
     "execution_count": 8,
     "metadata": {},
     "output_type": "execute_result"
    }
   ],
   "source": [
    "len(big) + len(small)"
   ]
  },
  {
   "cell_type": "markdown",
   "id": "c8154df8",
   "metadata": {},
   "source": [
    "#### Sampling End"
   ]
  },
  {
   "cell_type": "code",
   "execution_count": 14,
   "id": "3e3f7918",
   "metadata": {},
   "outputs": [],
   "source": [
    "df_1 = small[['prices' , 'age']]"
   ]
  },
  {
   "cell_type": "code",
   "execution_count": 15,
   "id": "527da919",
   "metadata": {},
   "outputs": [
    {
     "data": {
      "text/html": [
       "<div>\n",
       "<style scoped>\n",
       "    .dataframe tbody tr th:only-of-type {\n",
       "        vertical-align: middle;\n",
       "    }\n",
       "\n",
       "    .dataframe tbody tr th {\n",
       "        vertical-align: top;\n",
       "    }\n",
       "\n",
       "    .dataframe thead th {\n",
       "        text-align: right;\n",
       "    }\n",
       "</style>\n",
       "<table border=\"1\" class=\"dataframe\">\n",
       "  <thead>\n",
       "    <tr style=\"text-align: right;\">\n",
       "      <th></th>\n",
       "      <th>prices</th>\n",
       "      <th>age</th>\n",
       "    </tr>\n",
       "  </thead>\n",
       "  <tbody>\n",
       "    <tr>\n",
       "      <th>0</th>\n",
       "      <td>9.0</td>\n",
       "      <td>48</td>\n",
       "    </tr>\n",
       "    <tr>\n",
       "      <th>2</th>\n",
       "      <td>9.0</td>\n",
       "      <td>48</td>\n",
       "    </tr>\n",
       "    <tr>\n",
       "      <th>3</th>\n",
       "      <td>4.3</td>\n",
       "      <td>48</td>\n",
       "    </tr>\n",
       "    <tr>\n",
       "      <th>6</th>\n",
       "      <td>4.3</td>\n",
       "      <td>48</td>\n",
       "    </tr>\n",
       "    <tr>\n",
       "      <th>10</th>\n",
       "      <td>4.0</td>\n",
       "      <td>48</td>\n",
       "    </tr>\n",
       "  </tbody>\n",
       "</table>\n",
       "</div>"
      ],
      "text/plain": [
       "    prices  age\n",
       "0      9.0   48\n",
       "2      9.0   48\n",
       "3      4.3   48\n",
       "6      4.3   48\n",
       "10     4.0   48"
      ]
     },
     "execution_count": 15,
     "metadata": {},
     "output_type": "execute_result"
    }
   ],
   "source": [
    "df_1.head()"
   ]
  },
  {
   "cell_type": "code",
   "execution_count": null,
   "id": "a9912651",
   "metadata": {},
   "outputs": [],
   "source": [
    "# Seeing how prices change as age changes.\n",
    "line1 = sns.lineplot(data = df_1, x = 'age', y = 'prices')"
   ]
  },
  {
   "cell_type": "code",
   "execution_count": 18,
   "id": "c6dcfde8",
   "metadata": {},
   "outputs": [],
   "source": [
    "# Export chart\n",
    "line1.figure.savefig(os.path.join(path, 'Analysis','Visualizations', 'line_age_prices.png'))"
   ]
  },
  {
   "cell_type": "code",
   "execution_count": null,
   "id": "7b034ed0",
   "metadata": {},
   "outputs": [],
   "source": [
    "# Create line chart of order dow vs prices filtered by customer_profile_flag\n",
    "line2 = sns.lineplot(data = small, x = 'orders_day_of_week', y = 'prices', hue = 'customer_profile_flag')"
   ]
  },
  {
   "cell_type": "code",
   "execution_count": 20,
   "id": "75f81be2",
   "metadata": {},
   "outputs": [],
   "source": [
    "# Export chart\n",
    "line2.figure.savefig(os.path.join(path, 'Analysis','Visualizations', 'line_orders_dow_prices_customer.png'))"
   ]
  },
  {
   "cell_type": "code",
   "execution_count": null,
   "id": "b9b365ff",
   "metadata": {},
   "outputs": [],
   "source": [
    "# Create line chart of order hod vs prices filtered by customer_profile_flag \n",
    "line3 = sns.lineplot(data = small, x = 'order_hour_of_day', y = 'prices', hue = 'customer_profile_flag')"
   ]
  },
  {
   "cell_type": "code",
   "execution_count": 22,
   "id": "04e076ee",
   "metadata": {},
   "outputs": [],
   "source": [
    "# Export chart\n",
    "line3.figure.savefig(os.path.join(path, 'Analysis','Visualizations', 'line_orders_hod_prices_customer.png'))"
   ]
  },
  {
   "cell_type": "code",
   "execution_count": null,
   "id": "388b30ea",
   "metadata": {},
   "outputs": [],
   "source": [
    "# Create line chart of order hod vs prices filtered by region\n",
    "line4 = sns.lineplot(data = small, x = 'order_hour_of_day', y = 'prices', hue = 'region')"
   ]
  },
  {
   "cell_type": "code",
   "execution_count": 24,
   "id": "955cba26",
   "metadata": {},
   "outputs": [],
   "source": [
    "# Export chart\n",
    "line4.figure.savefig(os.path.join(path, 'Analysis','Visualizations', 'line_orders_hod_prices_region.png'))"
   ]
  },
  {
   "cell_type": "code",
   "execution_count": null,
   "id": "c480f508",
   "metadata": {},
   "outputs": [],
   "source": [
    "# Create line chart of order dow vs prices filtered by region\n",
    "line5 = sns.lineplot(data = small, x = 'orders_day_of_week', y = 'prices', hue = 'region')"
   ]
  },
  {
   "cell_type": "code",
   "execution_count": 26,
   "id": "c0148aa7",
   "metadata": {},
   "outputs": [],
   "source": [
    "# Export chart\n",
    "line5.figure.savefig(os.path.join(path, 'Analysis','Visualizations', 'line_orders_dow_prices_region.png'))"
   ]
  },
  {
   "cell_type": "code",
   "execution_count": null,
   "id": "f448ea58",
   "metadata": {},
   "outputs": [],
   "source": [
    "# Create line chart of order dow vs prices filtered by loyalty\n",
    "line6 = sns.lineplot(data = small, x = 'orders_day_of_week', y = 'prices', hue = 'loyalty_flag')"
   ]
  },
  {
   "cell_type": "code",
   "execution_count": 28,
   "id": "c7c3bf56",
   "metadata": {},
   "outputs": [],
   "source": [
    "# Export chart\n",
    "line6.figure.savefig(os.path.join(path, 'Analysis','Visualizations', 'line_orders_dow_prices_loyalty.png'))"
   ]
  },
  {
   "cell_type": "code",
   "execution_count": null,
   "id": "753ab901",
   "metadata": {},
   "outputs": [],
   "source": [
    "# Create line chart of order hod vs prices filtered by loyalty\n",
    "line7 = sns.lineplot(data = small, x = 'order_hour_of_day', y = 'prices', hue = 'loyalty_flag')"
   ]
  },
  {
   "cell_type": "code",
   "execution_count": 30,
   "id": "2ce1fb70",
   "metadata": {},
   "outputs": [],
   "source": [
    "# Export chart\n",
    "line7.figure.savefig(os.path.join(path, 'Analysis','Visualizations', 'line_orders_hod_prices_loyalty.png'))"
   ]
  },
  {
   "cell_type": "code",
   "execution_count": null,
   "id": "04616407",
   "metadata": {},
   "outputs": [],
   "source": [
    "pie1 = ords_prods_all['orders_day_of_week'].value_counts().plot.pie(autopct = '%1.0f%%')"
   ]
  },
  {
   "cell_type": "code",
   "execution_count": 14,
   "id": "03e3176a",
   "metadata": {},
   "outputs": [],
   "source": [
    "# Export chart\n",
    "pie1.figure.savefig(os.path.join(path, 'Analysis','Visualizations', 'pie_orders_dow.png'))"
   ]
  },
  {
   "cell_type": "code",
   "execution_count": null,
   "id": "c71edf99",
   "metadata": {},
   "outputs": [],
   "source": [
    "pie2 = ords_prods_all['department_name'].value_counts().nlargest(10).plot.pie(autopct = '%1.0f%%')\n",
    "plt.ylabel('')\n",
    "plt.xlabel('amount of orders')"
   ]
  },
  {
   "cell_type": "code",
   "execution_count": 15,
   "id": "595ac3c1",
   "metadata": {},
   "outputs": [],
   "source": [
    "# Export chart\n",
    "pie2.figure.savefig(os.path.join(path, 'Analysis','Visualizations', 'pie_departments_top_10.png'))"
   ]
  },
  {
   "cell_type": "code",
   "execution_count": null,
   "id": "8db962dc",
   "metadata": {},
   "outputs": [],
   "source": [
    "pie3 = ords_prods_all['order_hour_of_day'].value_counts().nlargest(12).plot.pie(autopct = '%1.0f%%')"
   ]
  },
  {
   "cell_type": "code",
   "execution_count": 6,
   "id": "61105b97",
   "metadata": {},
   "outputs": [],
   "source": [
    "# Export chart\n",
    "pie3.figure.savefig(os.path.join(path, 'Analysis','Visualizations', 'pie_order_hod.png'))"
   ]
  },
  {
   "cell_type": "code",
   "execution_count": 16,
   "id": "ca457ee1",
   "metadata": {},
   "outputs": [],
   "source": [
    "#Exporting final dataframe\n",
    "ords_prods_all.to_pickle(os.path.join(path, 'Data','Prepared Data', 'ords_prods_all_final.pkl'))"
   ]
  }
 ],
 "metadata": {
  "kernelspec": {
   "display_name": "Python 3 (ipykernel)",
   "language": "python",
   "name": "python3"
  },
  "language_info": {
   "codemirror_mode": {
    "name": "ipython",
    "version": 3
   },
   "file_extension": ".py",
   "mimetype": "text/x-python",
   "name": "python",
   "nbconvert_exporter": "python",
   "pygments_lexer": "ipython3",
   "version": "3.11.4"
  }
 },
 "nbformat": 4,
 "nbformat_minor": 5
}
