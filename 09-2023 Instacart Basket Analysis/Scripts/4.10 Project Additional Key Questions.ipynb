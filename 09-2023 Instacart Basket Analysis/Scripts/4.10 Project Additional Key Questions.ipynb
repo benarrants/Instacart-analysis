{
 "cells": [
  {
   "cell_type": "markdown",
   "id": "0a6715ac",
   "metadata": {},
   "source": [
    "1) Import Libraries\n",
    "2) Import Data\n",
    "3) Task\n",
    "    - PII Data Implications\n",
    "        - first_name and surname columns dropped\n",
    "    - Create regional segmentation of the data\n",
    "        - Used lists and For-loop\n",
    "    - Determine difference in ordering habits of regions\n",
    "    - Create exclusion flag for low-activity customers\n",
    "    - Create dataframe without those customers\n",
    "    - Exported new dataframe\n",
    "    - Create customer profiling variable (used loc() function)\n",
    "    - Exported new dataframe with customer profiles"
   ]
  },
  {
   "cell_type": "markdown",
   "id": "62844be5",
   "metadata": {},
   "source": [
    "# 01 Import Libraries"
   ]
  },
  {
   "cell_type": "code",
   "execution_count": 1,
   "id": "699c3455",
   "metadata": {},
   "outputs": [],
   "source": [
    "#Import libraries\n",
    "import pandas as pd\n",
    "import numpy as np\n",
    "import os\n",
    "import matplotlib.pyplot as plt\n",
    "import seaborn as sns\n",
    "import scipy"
   ]
  },
  {
   "cell_type": "markdown",
   "id": "1f96e464",
   "metadata": {},
   "source": [
    "# 02 Import Data"
   ]
  },
  {
   "cell_type": "code",
   "execution_count": 2,
   "id": "e627e9ed",
   "metadata": {},
   "outputs": [],
   "source": [
    "path = r'C:\\Users\\benar\\CareerFoundry\\09-2023 Instacart Basket Analysis'"
   ]
  },
  {
   "cell_type": "code",
   "execution_count": 3,
   "id": "b43422fd",
   "metadata": {},
   "outputs": [],
   "source": [
    "ords_prods_cust_merge = pd.read_pickle(os.path.join(path, 'Data', 'Prepared Data', 'ords_prods_cust_merged.pkl'))"
   ]
  },
  {
   "cell_type": "code",
   "execution_count": 4,
   "id": "33e823ee",
   "metadata": {},
   "outputs": [
    {
     "data": {
      "text/html": [
       "<div>\n",
       "<style scoped>\n",
       "    .dataframe tbody tr th:only-of-type {\n",
       "        vertical-align: middle;\n",
       "    }\n",
       "\n",
       "    .dataframe tbody tr th {\n",
       "        vertical-align: top;\n",
       "    }\n",
       "\n",
       "    .dataframe thead th {\n",
       "        text-align: right;\n",
       "    }\n",
       "</style>\n",
       "<table border=\"1\" class=\"dataframe\">\n",
       "  <thead>\n",
       "    <tr style=\"text-align: right;\">\n",
       "      <th></th>\n",
       "      <th>user_id</th>\n",
       "      <th>first_name</th>\n",
       "      <th>surname</th>\n",
       "      <th>gender</th>\n",
       "      <th>state</th>\n",
       "      <th>age</th>\n",
       "      <th>n_dependants</th>\n",
       "      <th>fam_status</th>\n",
       "      <th>income</th>\n",
       "      <th>product_id</th>\n",
       "      <th>...</th>\n",
       "      <th>price_range_loc</th>\n",
       "      <th>busiest_day</th>\n",
       "      <th>busiest_days</th>\n",
       "      <th>busiest_period_of_day</th>\n",
       "      <th>max_order</th>\n",
       "      <th>loyalty_flag</th>\n",
       "      <th>mean_spend</th>\n",
       "      <th>spender_flag</th>\n",
       "      <th>median_order_frequency</th>\n",
       "      <th>order_frequency_flag</th>\n",
       "    </tr>\n",
       "  </thead>\n",
       "  <tbody>\n",
       "    <tr>\n",
       "      <th>0</th>\n",
       "      <td>26711</td>\n",
       "      <td>Deborah</td>\n",
       "      <td>Esquivel</td>\n",
       "      <td>Female</td>\n",
       "      <td>Missouri</td>\n",
       "      <td>48</td>\n",
       "      <td>3</td>\n",
       "      <td>married</td>\n",
       "      <td>165665</td>\n",
       "      <td>196</td>\n",
       "      <td>...</td>\n",
       "      <td>Mid-range product</td>\n",
       "      <td>Regularly busy</td>\n",
       "      <td>Busiest days</td>\n",
       "      <td>Most orders</td>\n",
       "      <td>8</td>\n",
       "      <td>New customer</td>\n",
       "      <td>7.988889</td>\n",
       "      <td>Low spender</td>\n",
       "      <td>19.0</td>\n",
       "      <td>Regular customer</td>\n",
       "    </tr>\n",
       "    <tr>\n",
       "      <th>1</th>\n",
       "      <td>26711</td>\n",
       "      <td>Deborah</td>\n",
       "      <td>Esquivel</td>\n",
       "      <td>Female</td>\n",
       "      <td>Missouri</td>\n",
       "      <td>48</td>\n",
       "      <td>3</td>\n",
       "      <td>married</td>\n",
       "      <td>165665</td>\n",
       "      <td>196</td>\n",
       "      <td>...</td>\n",
       "      <td>Mid-range product</td>\n",
       "      <td>Regularly busy</td>\n",
       "      <td>Regularly busy</td>\n",
       "      <td>Most orders</td>\n",
       "      <td>8</td>\n",
       "      <td>New customer</td>\n",
       "      <td>7.988889</td>\n",
       "      <td>Low spender</td>\n",
       "      <td>19.0</td>\n",
       "      <td>Regular customer</td>\n",
       "    </tr>\n",
       "    <tr>\n",
       "      <th>2</th>\n",
       "      <td>26711</td>\n",
       "      <td>Deborah</td>\n",
       "      <td>Esquivel</td>\n",
       "      <td>Female</td>\n",
       "      <td>Missouri</td>\n",
       "      <td>48</td>\n",
       "      <td>3</td>\n",
       "      <td>married</td>\n",
       "      <td>165665</td>\n",
       "      <td>196</td>\n",
       "      <td>...</td>\n",
       "      <td>Mid-range product</td>\n",
       "      <td>Regularly busy</td>\n",
       "      <td>Busiest days</td>\n",
       "      <td>Most orders</td>\n",
       "      <td>8</td>\n",
       "      <td>New customer</td>\n",
       "      <td>7.988889</td>\n",
       "      <td>Low spender</td>\n",
       "      <td>19.0</td>\n",
       "      <td>Regular customer</td>\n",
       "    </tr>\n",
       "    <tr>\n",
       "      <th>3</th>\n",
       "      <td>26711</td>\n",
       "      <td>Deborah</td>\n",
       "      <td>Esquivel</td>\n",
       "      <td>Female</td>\n",
       "      <td>Missouri</td>\n",
       "      <td>48</td>\n",
       "      <td>3</td>\n",
       "      <td>married</td>\n",
       "      <td>165665</td>\n",
       "      <td>6184</td>\n",
       "      <td>...</td>\n",
       "      <td>Low-range product</td>\n",
       "      <td>Regularly busy</td>\n",
       "      <td>Regularly busy</td>\n",
       "      <td>Most orders</td>\n",
       "      <td>8</td>\n",
       "      <td>New customer</td>\n",
       "      <td>7.988889</td>\n",
       "      <td>Low spender</td>\n",
       "      <td>19.0</td>\n",
       "      <td>Regular customer</td>\n",
       "    </tr>\n",
       "    <tr>\n",
       "      <th>4</th>\n",
       "      <td>26711</td>\n",
       "      <td>Deborah</td>\n",
       "      <td>Esquivel</td>\n",
       "      <td>Female</td>\n",
       "      <td>Missouri</td>\n",
       "      <td>48</td>\n",
       "      <td>3</td>\n",
       "      <td>married</td>\n",
       "      <td>165665</td>\n",
       "      <td>6184</td>\n",
       "      <td>...</td>\n",
       "      <td>Low-range product</td>\n",
       "      <td>Regularly busy</td>\n",
       "      <td>Slowest days</td>\n",
       "      <td>Most orders</td>\n",
       "      <td>8</td>\n",
       "      <td>New customer</td>\n",
       "      <td>7.988889</td>\n",
       "      <td>Low spender</td>\n",
       "      <td>19.0</td>\n",
       "      <td>Regular customer</td>\n",
       "    </tr>\n",
       "  </tbody>\n",
       "</table>\n",
       "<p>5 rows × 31 columns</p>\n",
       "</div>"
      ],
      "text/plain": [
       "   user_id first_name   surname  gender     state  age  n_dependants  \\\n",
       "0    26711    Deborah  Esquivel  Female  Missouri   48             3   \n",
       "1    26711    Deborah  Esquivel  Female  Missouri   48             3   \n",
       "2    26711    Deborah  Esquivel  Female  Missouri   48             3   \n",
       "3    26711    Deborah  Esquivel  Female  Missouri   48             3   \n",
       "4    26711    Deborah  Esquivel  Female  Missouri   48             3   \n",
       "\n",
       "  fam_status  income  product_id  ...    price_range_loc     busiest_day  \\\n",
       "0    married  165665         196  ...  Mid-range product  Regularly busy   \n",
       "1    married  165665         196  ...  Mid-range product  Regularly busy   \n",
       "2    married  165665         196  ...  Mid-range product  Regularly busy   \n",
       "3    married  165665        6184  ...  Low-range product  Regularly busy   \n",
       "4    married  165665        6184  ...  Low-range product  Regularly busy   \n",
       "\n",
       "     busiest_days  busiest_period_of_day  max_order  loyalty_flag  mean_spend  \\\n",
       "0    Busiest days            Most orders          8  New customer    7.988889   \n",
       "1  Regularly busy            Most orders          8  New customer    7.988889   \n",
       "2    Busiest days            Most orders          8  New customer    7.988889   \n",
       "3  Regularly busy            Most orders          8  New customer    7.988889   \n",
       "4    Slowest days            Most orders          8  New customer    7.988889   \n",
       "\n",
       "   spender_flag  median_order_frequency  order_frequency_flag  \n",
       "0   Low spender                    19.0      Regular customer  \n",
       "1   Low spender                    19.0      Regular customer  \n",
       "2   Low spender                    19.0      Regular customer  \n",
       "3   Low spender                    19.0      Regular customer  \n",
       "4   Low spender                    19.0      Regular customer  \n",
       "\n",
       "[5 rows x 31 columns]"
      ]
     },
     "execution_count": 4,
     "metadata": {},
     "output_type": "execute_result"
    }
   ],
   "source": [
    "ords_prods_cust_merge.head()"
   ]
  },
  {
   "cell_type": "code",
   "execution_count": 5,
   "id": "80596d56",
   "metadata": {},
   "outputs": [
    {
     "data": {
      "text/plain": [
       "(32404859, 31)"
      ]
     },
     "execution_count": 5,
     "metadata": {},
     "output_type": "execute_result"
    }
   ],
   "source": [
    "ords_prods_cust_merge.shape"
   ]
  },
  {
   "cell_type": "markdown",
   "id": "15c76bc6",
   "metadata": {},
   "source": [
    "# 03 Task"
   ]
  },
  {
   "cell_type": "markdown",
   "id": "92631af5",
   "metadata": {},
   "source": [
    "## PII Data Implications"
   ]
  },
  {
   "cell_type": "markdown",
   "id": "1473fd0c",
   "metadata": {},
   "source": [
    "Names have PII implications and they are not necessary for analysis. They will be dropped."
   ]
  },
  {
   "cell_type": "code",
   "execution_count": 6,
   "id": "795d3cf8",
   "metadata": {},
   "outputs": [],
   "source": [
    "# Dropping 'first_name' and 'surname' columns\n",
    "ords_prods_merge = ords_prods_cust_merge.drop(['first_name', 'surname'], axis=1)"
   ]
  },
  {
   "cell_type": "code",
   "execution_count": 7,
   "id": "6f4ff1df",
   "metadata": {},
   "outputs": [],
   "source": [
    "#3 Create a regional segmentation of the data.\n",
    "\n",
    "# Create Northwest Region list\n",
    "NorthE_region = ['Maine', 'New Hampshire', 'Vermont', 'Massachusetts', 'Rhode Island', 'Connecticut', 'New York', 'Pennsylvania', 'New Jersey']"
   ]
  },
  {
   "cell_type": "code",
   "execution_count": 8,
   "id": "6ea4b924",
   "metadata": {},
   "outputs": [],
   "source": [
    "# Create Midwest Region list\n",
    "MidW_region = ['Wisconsin', 'Michigan', 'Illinois', 'Indiana', 'Ohio', 'North Dakota', 'South Dakota', 'Nebraska', 'Kansas', 'Minnesota', 'Iowa', 'Missouri']"
   ]
  },
  {
   "cell_type": "code",
   "execution_count": 9,
   "id": "7cb3c1b4",
   "metadata": {},
   "outputs": [],
   "source": [
    "# Create South Region list\n",
    "South_region = ['Delaware', 'Maryland', 'District of Columbia', 'Virginia', 'West Virginia', 'North Carolina', 'South Carolina', 'Georgia', 'Florida', 'Kentucky', 'Tennessee', 'Mississippi', 'Alabama', 'Oklahoma', 'Texas', 'Arkansas', 'Louisiana']"
   ]
  },
  {
   "cell_type": "code",
   "execution_count": 10,
   "id": "f4c2a7ea",
   "metadata": {},
   "outputs": [],
   "source": [
    "# Create West Region list\n",
    "West_region = ['Idaho', 'Montana', 'Wyoming', 'Nevada', 'Utah', 'Colorado', 'Arizona', 'New Mexico', 'Alaska', 'Washington', 'Oregon', 'California', 'Hawaii']"
   ]
  },
  {
   "cell_type": "code",
   "execution_count": 11,
   "id": "c1cb32b5",
   "metadata": {},
   "outputs": [],
   "source": [
    "result = []\n",
    "\n",
    "for place in ords_prods_merge[\"state\"]:\n",
    "  if place in NorthE_region:\n",
    "    result.append(\"Northeast\")\n",
    "  elif place in MidW_region:\n",
    "    result.append(\"Midwest\")\n",
    "  elif place in South_region:\n",
    "    result.append(\"South\")\n",
    "  elif place in West_region:\n",
    "    result.append(\"West\")"
   ]
  },
  {
   "cell_type": "code",
   "execution_count": 12,
   "id": "f8f34c6c",
   "metadata": {},
   "outputs": [],
   "source": [
    "ords_prods_merge['region'] = result"
   ]
  },
  {
   "cell_type": "code",
   "execution_count": 13,
   "id": "86b6c0a1",
   "metadata": {},
   "outputs": [
    {
     "data": {
      "text/html": [
       "<div>\n",
       "<style scoped>\n",
       "    .dataframe tbody tr th:only-of-type {\n",
       "        vertical-align: middle;\n",
       "    }\n",
       "\n",
       "    .dataframe tbody tr th {\n",
       "        vertical-align: top;\n",
       "    }\n",
       "\n",
       "    .dataframe thead th {\n",
       "        text-align: right;\n",
       "    }\n",
       "</style>\n",
       "<table border=\"1\" class=\"dataframe\">\n",
       "  <thead>\n",
       "    <tr style=\"text-align: right;\">\n",
       "      <th></th>\n",
       "      <th>user_id</th>\n",
       "      <th>gender</th>\n",
       "      <th>state</th>\n",
       "      <th>age</th>\n",
       "      <th>n_dependants</th>\n",
       "      <th>fam_status</th>\n",
       "      <th>income</th>\n",
       "      <th>product_id</th>\n",
       "      <th>product_name</th>\n",
       "      <th>aisle_id</th>\n",
       "      <th>...</th>\n",
       "      <th>busiest_day</th>\n",
       "      <th>busiest_days</th>\n",
       "      <th>busiest_period_of_day</th>\n",
       "      <th>max_order</th>\n",
       "      <th>loyalty_flag</th>\n",
       "      <th>mean_spend</th>\n",
       "      <th>spender_flag</th>\n",
       "      <th>median_order_frequency</th>\n",
       "      <th>order_frequency_flag</th>\n",
       "      <th>region</th>\n",
       "    </tr>\n",
       "  </thead>\n",
       "  <tbody>\n",
       "    <tr>\n",
       "      <th>0</th>\n",
       "      <td>26711</td>\n",
       "      <td>Female</td>\n",
       "      <td>Missouri</td>\n",
       "      <td>48</td>\n",
       "      <td>3</td>\n",
       "      <td>married</td>\n",
       "      <td>165665</td>\n",
       "      <td>196</td>\n",
       "      <td>Soda</td>\n",
       "      <td>77</td>\n",
       "      <td>...</td>\n",
       "      <td>Regularly busy</td>\n",
       "      <td>Busiest days</td>\n",
       "      <td>Most orders</td>\n",
       "      <td>8</td>\n",
       "      <td>New customer</td>\n",
       "      <td>7.988889</td>\n",
       "      <td>Low spender</td>\n",
       "      <td>19.0</td>\n",
       "      <td>Regular customer</td>\n",
       "      <td>Midwest</td>\n",
       "    </tr>\n",
       "    <tr>\n",
       "      <th>1</th>\n",
       "      <td>26711</td>\n",
       "      <td>Female</td>\n",
       "      <td>Missouri</td>\n",
       "      <td>48</td>\n",
       "      <td>3</td>\n",
       "      <td>married</td>\n",
       "      <td>165665</td>\n",
       "      <td>196</td>\n",
       "      <td>Soda</td>\n",
       "      <td>77</td>\n",
       "      <td>...</td>\n",
       "      <td>Regularly busy</td>\n",
       "      <td>Regularly busy</td>\n",
       "      <td>Most orders</td>\n",
       "      <td>8</td>\n",
       "      <td>New customer</td>\n",
       "      <td>7.988889</td>\n",
       "      <td>Low spender</td>\n",
       "      <td>19.0</td>\n",
       "      <td>Regular customer</td>\n",
       "      <td>Midwest</td>\n",
       "    </tr>\n",
       "    <tr>\n",
       "      <th>2</th>\n",
       "      <td>26711</td>\n",
       "      <td>Female</td>\n",
       "      <td>Missouri</td>\n",
       "      <td>48</td>\n",
       "      <td>3</td>\n",
       "      <td>married</td>\n",
       "      <td>165665</td>\n",
       "      <td>196</td>\n",
       "      <td>Soda</td>\n",
       "      <td>77</td>\n",
       "      <td>...</td>\n",
       "      <td>Regularly busy</td>\n",
       "      <td>Busiest days</td>\n",
       "      <td>Most orders</td>\n",
       "      <td>8</td>\n",
       "      <td>New customer</td>\n",
       "      <td>7.988889</td>\n",
       "      <td>Low spender</td>\n",
       "      <td>19.0</td>\n",
       "      <td>Regular customer</td>\n",
       "      <td>Midwest</td>\n",
       "    </tr>\n",
       "    <tr>\n",
       "      <th>3</th>\n",
       "      <td>26711</td>\n",
       "      <td>Female</td>\n",
       "      <td>Missouri</td>\n",
       "      <td>48</td>\n",
       "      <td>3</td>\n",
       "      <td>married</td>\n",
       "      <td>165665</td>\n",
       "      <td>6184</td>\n",
       "      <td>Clementines</td>\n",
       "      <td>32</td>\n",
       "      <td>...</td>\n",
       "      <td>Regularly busy</td>\n",
       "      <td>Regularly busy</td>\n",
       "      <td>Most orders</td>\n",
       "      <td>8</td>\n",
       "      <td>New customer</td>\n",
       "      <td>7.988889</td>\n",
       "      <td>Low spender</td>\n",
       "      <td>19.0</td>\n",
       "      <td>Regular customer</td>\n",
       "      <td>Midwest</td>\n",
       "    </tr>\n",
       "    <tr>\n",
       "      <th>4</th>\n",
       "      <td>26711</td>\n",
       "      <td>Female</td>\n",
       "      <td>Missouri</td>\n",
       "      <td>48</td>\n",
       "      <td>3</td>\n",
       "      <td>married</td>\n",
       "      <td>165665</td>\n",
       "      <td>6184</td>\n",
       "      <td>Clementines</td>\n",
       "      <td>32</td>\n",
       "      <td>...</td>\n",
       "      <td>Regularly busy</td>\n",
       "      <td>Slowest days</td>\n",
       "      <td>Most orders</td>\n",
       "      <td>8</td>\n",
       "      <td>New customer</td>\n",
       "      <td>7.988889</td>\n",
       "      <td>Low spender</td>\n",
       "      <td>19.0</td>\n",
       "      <td>Regular customer</td>\n",
       "      <td>Midwest</td>\n",
       "    </tr>\n",
       "  </tbody>\n",
       "</table>\n",
       "<p>5 rows × 30 columns</p>\n",
       "</div>"
      ],
      "text/plain": [
       "   user_id  gender     state  age  n_dependants fam_status  income  \\\n",
       "0    26711  Female  Missouri   48             3    married  165665   \n",
       "1    26711  Female  Missouri   48             3    married  165665   \n",
       "2    26711  Female  Missouri   48             3    married  165665   \n",
       "3    26711  Female  Missouri   48             3    married  165665   \n",
       "4    26711  Female  Missouri   48             3    married  165665   \n",
       "\n",
       "   product_id product_name  aisle_id  ...     busiest_day    busiest_days  \\\n",
       "0         196         Soda        77  ...  Regularly busy    Busiest days   \n",
       "1         196         Soda        77  ...  Regularly busy  Regularly busy   \n",
       "2         196         Soda        77  ...  Regularly busy    Busiest days   \n",
       "3        6184  Clementines        32  ...  Regularly busy  Regularly busy   \n",
       "4        6184  Clementines        32  ...  Regularly busy    Slowest days   \n",
       "\n",
       "   busiest_period_of_day  max_order  loyalty_flag  mean_spend  spender_flag  \\\n",
       "0            Most orders          8  New customer    7.988889   Low spender   \n",
       "1            Most orders          8  New customer    7.988889   Low spender   \n",
       "2            Most orders          8  New customer    7.988889   Low spender   \n",
       "3            Most orders          8  New customer    7.988889   Low spender   \n",
       "4            Most orders          8  New customer    7.988889   Low spender   \n",
       "\n",
       "   median_order_frequency  order_frequency_flag   region  \n",
       "0                    19.0      Regular customer  Midwest  \n",
       "1                    19.0      Regular customer  Midwest  \n",
       "2                    19.0      Regular customer  Midwest  \n",
       "3                    19.0      Regular customer  Midwest  \n",
       "4                    19.0      Regular customer  Midwest  \n",
       "\n",
       "[5 rows x 30 columns]"
      ]
     },
     "execution_count": 13,
     "metadata": {},
     "output_type": "execute_result"
    }
   ],
   "source": [
    "#Checking creation of new variable \n",
    "ords_prods_merge.head()"
   ]
  },
  {
   "cell_type": "code",
   "execution_count": 14,
   "id": "489a037a",
   "metadata": {},
   "outputs": [
    {
     "data": {
      "text/plain": [
       "region\n",
       "South        10791885\n",
       "West          8292913\n",
       "Midwest       7597325\n",
       "Northeast     5722736\n",
       "Name: count, dtype: int64"
      ]
     },
     "execution_count": 14,
     "metadata": {},
     "output_type": "execute_result"
    }
   ],
   "source": [
    "ords_prods_merge['region'].value_counts(dropna = False)"
   ]
  },
  {
   "cell_type": "code",
   "execution_count": 15,
   "id": "0de6d866",
   "metadata": {},
   "outputs": [],
   "source": [
    "# Determine whether there’s a difference in spending habits between the different U.S. regions.\n",
    "crosstab = pd.crosstab(ords_prods_merge['region'], ords_prods_merge['spender_flag'], dropna = False)"
   ]
  },
  {
   "cell_type": "code",
   "execution_count": 16,
   "id": "4f026cb4",
   "metadata": {},
   "outputs": [
    {
     "data": {
      "text/html": [
       "<div>\n",
       "<style scoped>\n",
       "    .dataframe tbody tr th:only-of-type {\n",
       "        vertical-align: middle;\n",
       "    }\n",
       "\n",
       "    .dataframe tbody tr th {\n",
       "        vertical-align: top;\n",
       "    }\n",
       "\n",
       "    .dataframe thead th {\n",
       "        text-align: right;\n",
       "    }\n",
       "</style>\n",
       "<table border=\"1\" class=\"dataframe\">\n",
       "  <thead>\n",
       "    <tr style=\"text-align: right;\">\n",
       "      <th>spender_flag</th>\n",
       "      <th>High spender</th>\n",
       "      <th>Low spender</th>\n",
       "    </tr>\n",
       "    <tr>\n",
       "      <th>region</th>\n",
       "      <th></th>\n",
       "      <th></th>\n",
       "    </tr>\n",
       "  </thead>\n",
       "  <tbody>\n",
       "    <tr>\n",
       "      <th>Midwest</th>\n",
       "      <td>29265</td>\n",
       "      <td>7568060</td>\n",
       "    </tr>\n",
       "    <tr>\n",
       "      <th>Northeast</th>\n",
       "      <td>18642</td>\n",
       "      <td>5704094</td>\n",
       "    </tr>\n",
       "    <tr>\n",
       "      <th>South</th>\n",
       "      <td>40579</td>\n",
       "      <td>10751306</td>\n",
       "    </tr>\n",
       "    <tr>\n",
       "      <th>West</th>\n",
       "      <td>31242</td>\n",
       "      <td>8261671</td>\n",
       "    </tr>\n",
       "  </tbody>\n",
       "</table>\n",
       "</div>"
      ],
      "text/plain": [
       "spender_flag  High spender  Low spender\n",
       "region                                 \n",
       "Midwest              29265      7568060\n",
       "Northeast            18642      5704094\n",
       "South                40579     10751306\n",
       "West                 31242      8261671"
      ]
     },
     "execution_count": 16,
     "metadata": {},
     "output_type": "execute_result"
    }
   ],
   "source": [
    "crosstab"
   ]
  },
  {
   "cell_type": "code",
   "execution_count": 17,
   "id": "6683d9be",
   "metadata": {},
   "outputs": [
    {
     "data": {
      "text/plain": [
       "0.345713787418598"
      ]
     },
     "execution_count": 17,
     "metadata": {},
     "output_type": "execute_result"
    }
   ],
   "source": [
    "# Midwest region 'High spender' percentage vs whole value count above\n",
    "(26265/7597325) * 100"
   ]
  },
  {
   "cell_type": "code",
   "execution_count": 18,
   "id": "42242a61",
   "metadata": {},
   "outputs": [
    {
     "data": {
      "text/plain": [
       "0.3257532760553693"
      ]
     },
     "execution_count": 18,
     "metadata": {},
     "output_type": "execute_result"
    }
   ],
   "source": [
    "# Northeast region 'High spender' percentage vs whole value count above\n",
    "(18642/5722736) * 100"
   ]
  },
  {
   "cell_type": "code",
   "execution_count": 19,
   "id": "62590bda",
   "metadata": {},
   "outputs": [
    {
     "data": {
      "text/plain": [
       "0.3760140142338433"
      ]
     },
     "execution_count": 19,
     "metadata": {},
     "output_type": "execute_result"
    }
   ],
   "source": [
    "# South region 'High spender' percentage vs whole value count above\n",
    "(40579/10791885) * 100"
   ]
  },
  {
   "cell_type": "code",
   "execution_count": 20,
   "id": "19537506",
   "metadata": {},
   "outputs": [
    {
     "data": {
      "text/plain": [
       "0.37673131262802345"
      ]
     },
     "execution_count": 20,
     "metadata": {},
     "output_type": "execute_result"
    }
   ],
   "source": [
    "# West region 'High spender' percentage vs whole value count above\n",
    "(31242/8292913) * 100"
   ]
  },
  {
   "cell_type": "markdown",
   "id": "8043165f",
   "metadata": {},
   "source": [
    "West and South regions have higher percentage of high spenders than other regions. Northeast region has largest percentage of Low spenders. These differences are so small though that they don't really display much variance in spending/ordering habits."
   ]
  },
  {
   "cell_type": "code",
   "execution_count": 21,
   "id": "2e684a50",
   "metadata": {},
   "outputs": [],
   "source": [
    "#4 Create an exclusion flag for low-activity customers (customers with less than 5 orders)\n",
    "ords_prods_merge.loc[ords_prods_merge['max_order'] < 5, 'exclusion_flag'] = 'Exclude'"
   ]
  },
  {
   "cell_type": "code",
   "execution_count": 22,
   "id": "eb67d72b",
   "metadata": {},
   "outputs": [],
   "source": [
    "ords_prods_merge.loc[ords_prods_merge['max_order'] >= 5, 'exclusion_flag'] = 'Include'"
   ]
  },
  {
   "cell_type": "code",
   "execution_count": 23,
   "id": "7d79fa1a",
   "metadata": {},
   "outputs": [
    {
     "data": {
      "text/plain": [
       "exclusion_flag\n",
       "Include    30964564\n",
       "Exclude     1440295\n",
       "Name: count, dtype: int64"
      ]
     },
     "execution_count": 23,
     "metadata": {},
     "output_type": "execute_result"
    }
   ],
   "source": [
    "ords_prods_merge['exclusion_flag'].value_counts(dropna = False)"
   ]
  },
  {
   "cell_type": "code",
   "execution_count": 24,
   "id": "3f9a6d11",
   "metadata": {},
   "outputs": [
    {
     "data": {
      "text/html": [
       "<div>\n",
       "<style scoped>\n",
       "    .dataframe tbody tr th:only-of-type {\n",
       "        vertical-align: middle;\n",
       "    }\n",
       "\n",
       "    .dataframe tbody tr th {\n",
       "        vertical-align: top;\n",
       "    }\n",
       "\n",
       "    .dataframe thead th {\n",
       "        text-align: right;\n",
       "    }\n",
       "</style>\n",
       "<table border=\"1\" class=\"dataframe\">\n",
       "  <thead>\n",
       "    <tr style=\"text-align: right;\">\n",
       "      <th></th>\n",
       "      <th>user_id</th>\n",
       "      <th>gender</th>\n",
       "      <th>state</th>\n",
       "      <th>age</th>\n",
       "      <th>n_dependants</th>\n",
       "      <th>fam_status</th>\n",
       "      <th>income</th>\n",
       "      <th>product_id</th>\n",
       "      <th>product_name</th>\n",
       "      <th>aisle_id</th>\n",
       "      <th>...</th>\n",
       "      <th>busiest_days</th>\n",
       "      <th>busiest_period_of_day</th>\n",
       "      <th>max_order</th>\n",
       "      <th>loyalty_flag</th>\n",
       "      <th>mean_spend</th>\n",
       "      <th>spender_flag</th>\n",
       "      <th>median_order_frequency</th>\n",
       "      <th>order_frequency_flag</th>\n",
       "      <th>region</th>\n",
       "      <th>exclusion_flag</th>\n",
       "    </tr>\n",
       "  </thead>\n",
       "  <tbody>\n",
       "    <tr>\n",
       "      <th>0</th>\n",
       "      <td>26711</td>\n",
       "      <td>Female</td>\n",
       "      <td>Missouri</td>\n",
       "      <td>48</td>\n",
       "      <td>3</td>\n",
       "      <td>married</td>\n",
       "      <td>165665</td>\n",
       "      <td>196</td>\n",
       "      <td>Soda</td>\n",
       "      <td>77</td>\n",
       "      <td>...</td>\n",
       "      <td>Busiest days</td>\n",
       "      <td>Most orders</td>\n",
       "      <td>8</td>\n",
       "      <td>New customer</td>\n",
       "      <td>7.988889</td>\n",
       "      <td>Low spender</td>\n",
       "      <td>19.0</td>\n",
       "      <td>Regular customer</td>\n",
       "      <td>Midwest</td>\n",
       "      <td>Include</td>\n",
       "    </tr>\n",
       "    <tr>\n",
       "      <th>1</th>\n",
       "      <td>26711</td>\n",
       "      <td>Female</td>\n",
       "      <td>Missouri</td>\n",
       "      <td>48</td>\n",
       "      <td>3</td>\n",
       "      <td>married</td>\n",
       "      <td>165665</td>\n",
       "      <td>196</td>\n",
       "      <td>Soda</td>\n",
       "      <td>77</td>\n",
       "      <td>...</td>\n",
       "      <td>Regularly busy</td>\n",
       "      <td>Most orders</td>\n",
       "      <td>8</td>\n",
       "      <td>New customer</td>\n",
       "      <td>7.988889</td>\n",
       "      <td>Low spender</td>\n",
       "      <td>19.0</td>\n",
       "      <td>Regular customer</td>\n",
       "      <td>Midwest</td>\n",
       "      <td>Include</td>\n",
       "    </tr>\n",
       "    <tr>\n",
       "      <th>2</th>\n",
       "      <td>26711</td>\n",
       "      <td>Female</td>\n",
       "      <td>Missouri</td>\n",
       "      <td>48</td>\n",
       "      <td>3</td>\n",
       "      <td>married</td>\n",
       "      <td>165665</td>\n",
       "      <td>196</td>\n",
       "      <td>Soda</td>\n",
       "      <td>77</td>\n",
       "      <td>...</td>\n",
       "      <td>Busiest days</td>\n",
       "      <td>Most orders</td>\n",
       "      <td>8</td>\n",
       "      <td>New customer</td>\n",
       "      <td>7.988889</td>\n",
       "      <td>Low spender</td>\n",
       "      <td>19.0</td>\n",
       "      <td>Regular customer</td>\n",
       "      <td>Midwest</td>\n",
       "      <td>Include</td>\n",
       "    </tr>\n",
       "    <tr>\n",
       "      <th>3</th>\n",
       "      <td>26711</td>\n",
       "      <td>Female</td>\n",
       "      <td>Missouri</td>\n",
       "      <td>48</td>\n",
       "      <td>3</td>\n",
       "      <td>married</td>\n",
       "      <td>165665</td>\n",
       "      <td>6184</td>\n",
       "      <td>Clementines</td>\n",
       "      <td>32</td>\n",
       "      <td>...</td>\n",
       "      <td>Regularly busy</td>\n",
       "      <td>Most orders</td>\n",
       "      <td>8</td>\n",
       "      <td>New customer</td>\n",
       "      <td>7.988889</td>\n",
       "      <td>Low spender</td>\n",
       "      <td>19.0</td>\n",
       "      <td>Regular customer</td>\n",
       "      <td>Midwest</td>\n",
       "      <td>Include</td>\n",
       "    </tr>\n",
       "    <tr>\n",
       "      <th>4</th>\n",
       "      <td>26711</td>\n",
       "      <td>Female</td>\n",
       "      <td>Missouri</td>\n",
       "      <td>48</td>\n",
       "      <td>3</td>\n",
       "      <td>married</td>\n",
       "      <td>165665</td>\n",
       "      <td>6184</td>\n",
       "      <td>Clementines</td>\n",
       "      <td>32</td>\n",
       "      <td>...</td>\n",
       "      <td>Slowest days</td>\n",
       "      <td>Most orders</td>\n",
       "      <td>8</td>\n",
       "      <td>New customer</td>\n",
       "      <td>7.988889</td>\n",
       "      <td>Low spender</td>\n",
       "      <td>19.0</td>\n",
       "      <td>Regular customer</td>\n",
       "      <td>Midwest</td>\n",
       "      <td>Include</td>\n",
       "    </tr>\n",
       "  </tbody>\n",
       "</table>\n",
       "<p>5 rows × 31 columns</p>\n",
       "</div>"
      ],
      "text/plain": [
       "   user_id  gender     state  age  n_dependants fam_status  income  \\\n",
       "0    26711  Female  Missouri   48             3    married  165665   \n",
       "1    26711  Female  Missouri   48             3    married  165665   \n",
       "2    26711  Female  Missouri   48             3    married  165665   \n",
       "3    26711  Female  Missouri   48             3    married  165665   \n",
       "4    26711  Female  Missouri   48             3    married  165665   \n",
       "\n",
       "   product_id product_name  aisle_id  ...    busiest_days  \\\n",
       "0         196         Soda        77  ...    Busiest days   \n",
       "1         196         Soda        77  ...  Regularly busy   \n",
       "2         196         Soda        77  ...    Busiest days   \n",
       "3        6184  Clementines        32  ...  Regularly busy   \n",
       "4        6184  Clementines        32  ...    Slowest days   \n",
       "\n",
       "   busiest_period_of_day  max_order  loyalty_flag  mean_spend  spender_flag  \\\n",
       "0            Most orders          8  New customer    7.988889   Low spender   \n",
       "1            Most orders          8  New customer    7.988889   Low spender   \n",
       "2            Most orders          8  New customer    7.988889   Low spender   \n",
       "3            Most orders          8  New customer    7.988889   Low spender   \n",
       "4            Most orders          8  New customer    7.988889   Low spender   \n",
       "\n",
       "   median_order_frequency  order_frequency_flag   region exclusion_flag  \n",
       "0                    19.0      Regular customer  Midwest        Include  \n",
       "1                    19.0      Regular customer  Midwest        Include  \n",
       "2                    19.0      Regular customer  Midwest        Include  \n",
       "3                    19.0      Regular customer  Midwest        Include  \n",
       "4                    19.0      Regular customer  Midwest        Include  \n",
       "\n",
       "[5 rows x 31 columns]"
      ]
     },
     "execution_count": 24,
     "metadata": {},
     "output_type": "execute_result"
    }
   ],
   "source": [
    "ords_prods_merge.head()"
   ]
  },
  {
   "cell_type": "markdown",
   "id": "68d38a6f",
   "metadata": {},
   "source": [
    "Need to exclude them from the data"
   ]
  },
  {
   "cell_type": "code",
   "execution_count": 25,
   "id": "50862b3f",
   "metadata": {},
   "outputs": [],
   "source": [
    "# Create dataframe with only 'Include' flagged\n",
    "ords_prods_all = ords_prods_merge[ords_prods_merge['exclusion_flag'] == 'Include']"
   ]
  },
  {
   "cell_type": "code",
   "execution_count": 26,
   "id": "1f3344fd",
   "metadata": {},
   "outputs": [
    {
     "data": {
      "text/plain": [
       "(30964564, 31)"
      ]
     },
     "execution_count": 26,
     "metadata": {},
     "output_type": "execute_result"
    }
   ],
   "source": [
    "# Checking the new dataframe was create properly.\n",
    "ords_prods_all.shape"
   ]
  },
  {
   "cell_type": "code",
   "execution_count": 27,
   "id": "d4f7eeee",
   "metadata": {},
   "outputs": [],
   "source": [
    "# Exporting new dataframe.\n",
    "ords_prods_all.to_pickle(os.path.join(path, 'Data','Prepared Data', 'orders_products_all.pkl'))"
   ]
  },
  {
   "cell_type": "code",
   "execution_count": 28,
   "id": "00bcaab1",
   "metadata": {},
   "outputs": [],
   "source": [
    "#5 Create a profiling variable based on age, income, certain goods in the “department_id” column, and number of dependents."
   ]
  },
  {
   "cell_type": "code",
   "execution_count": 29,
   "id": "9c482bf3",
   "metadata": {},
   "outputs": [
    {
     "name": "stderr",
     "output_type": "stream",
     "text": [
      "C:\\Users\\benar\\AppData\\Local\\Temp\\ipykernel_13688\\2777597959.py:1: SettingWithCopyWarning: \n",
      "A value is trying to be set on a copy of a slice from a DataFrame.\n",
      "Try using .loc[row_indexer,col_indexer] = value instead\n",
      "\n",
      "See the caveats in the documentation: https://pandas.pydata.org/pandas-docs/stable/user_guide/indexing.html#returning-a-view-versus-a-copy\n",
      "  ords_prods_all.loc[(ords_prods_merge['age'] < 30) & (ords_prods_all['n_dependants'] >= 1) & (ords_prods_all['fam_status'] == \"married\"),'customer_profile_flag'] = 'Young family'\n"
     ]
    }
   ],
   "source": [
    "ords_prods_all.loc[(ords_prods_merge['age'] < 30) & (ords_prods_all['n_dependants'] >= 1) & (ords_prods_all['fam_status'] == \"married\"),'customer_profile_flag'] = 'Young family'"
   ]
  },
  {
   "cell_type": "code",
   "execution_count": 30,
   "id": "809cf7b0",
   "metadata": {},
   "outputs": [],
   "source": [
    "ords_prods_all.loc[(ords_prods_all['fam_status'] == \"single\") | (ords_prods_all['fam_status'] == \"divorced/widowed\") & (ords_prods_all['n_dependants'] == 0),'customer_profile_flag'] = 'Childless single'"
   ]
  },
  {
   "cell_type": "code",
   "execution_count": 31,
   "id": "e7bc7e60",
   "metadata": {},
   "outputs": [],
   "source": [
    "ords_prods_all.loc[(ords_prods_all['age'] >= 30) & (ords_prods_all['n_dependants'] >= 1) & (ords_prods_all['fam_status'] == \"married\"),'customer_profile_flag'] = 'Mature family'"
   ]
  },
  {
   "cell_type": "code",
   "execution_count": 32,
   "id": "deef5a6d",
   "metadata": {},
   "outputs": [],
   "source": [
    "ords_prods_all.loc[(ords_prods_all['n_dependants'] >= 1) & (ords_prods_all['gender'] == \"female\") & (ords_prods_all['fam_status'] == \"single\"),'customer_profile_flag'] = 'Single mother'"
   ]
  },
  {
   "cell_type": "code",
   "execution_count": 33,
   "id": "6e168007",
   "metadata": {},
   "outputs": [],
   "source": [
    "ords_prods_all.loc[(ords_prods_all['n_dependants'] >= 1) & (ords_prods_all['gender'] == \"male\") & (ords_prods_all['fam_status'] == \"single\"),'customer_profile_flag'] = 'Single father'"
   ]
  },
  {
   "cell_type": "code",
   "execution_count": 34,
   "id": "5c322e05",
   "metadata": {},
   "outputs": [],
   "source": [
    "ords_prods_all.loc[(ords_prods_all['fam_status'] == \"living with parents and siblings\") & (ords_prods_all['n_dependants'] >= 1),'customer_profile_flag'] = 'Single with family'"
   ]
  },
  {
   "cell_type": "code",
   "execution_count": 35,
   "id": "17625d3e",
   "metadata": {},
   "outputs": [
    {
     "data": {
      "text/plain": [
       "customer_profile_flag\n",
       "Mature family         18854898\n",
       "Childless single       7739681\n",
       "Young family           2888813\n",
       "Single with family     1481172\n",
       "Name: count, dtype: int64"
      ]
     },
     "execution_count": 35,
     "metadata": {},
     "output_type": "execute_result"
    }
   ],
   "source": [
    "ords_prods_all['customer_profile_flag'].value_counts(dropna = False)"
   ]
  },
  {
   "cell_type": "code",
   "execution_count": 36,
   "id": "38dcdc1b",
   "metadata": {},
   "outputs": [],
   "source": [
    "ords_prods_all.to_pickle(os.path.join(path, 'Data','Prepared Data', 'orders_products_all_project.pkl'))"
   ]
  }
 ],
 "metadata": {
  "kernelspec": {
   "display_name": "Python 3 (ipykernel)",
   "language": "python",
   "name": "python3"
  },
  "language_info": {
   "codemirror_mode": {
    "name": "ipython",
    "version": 3
   },
   "file_extension": ".py",
   "mimetype": "text/x-python",
   "name": "python",
   "nbconvert_exporter": "python",
   "pygments_lexer": "ipython3",
   "version": "3.11.4"
  }
 },
 "nbformat": 4,
 "nbformat_minor": 5
}
